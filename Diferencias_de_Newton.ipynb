{
  "nbformat": 4,
  "nbformat_minor": 0,
  "metadata": {
    "colab": {
      "provenance": [],
      "authorship_tag": "ABX9TyMNIIpHYd/DzJdzxdsPF/Df",
      "include_colab_link": true
    },
    "kernelspec": {
      "name": "python3",
      "display_name": "Python 3"
    },
    "language_info": {
      "name": "python"
    }
  },
  "cells": [
    {
      "cell_type": "markdown",
      "metadata": {
        "id": "view-in-github",
        "colab_type": "text"
      },
      "source": [
        "<a href=\"https://colab.research.google.com/github/EmilianoCastelan/MetodosNumericos/blob/main/Diferencias_de_Newton.ipynb\" target=\"_parent\"><img src=\"https://colab.research.google.com/assets/colab-badge.svg\" alt=\"Open In Colab\"/></a>"
      ]
    },
    {
      "cell_type": "code",
      "execution_count": 13,
      "metadata": {
        "id": "YqbvND6vVRsd"
      },
      "outputs": [],
      "source": [
        "from math import *\n",
        "import numpy as np\n",
        "import matplotlib . pyplot as plt"
      ]
    },
    {
      "cell_type": "code",
      "source": [
        "x = np.array ([1.0,1.3 ,1.6 ,1.9 ,2.2])\n",
        "f = np.array ([0.7651977, 0.6200860, 0.4554022, 0.2818186, 0.1103623])\n",
        "n = x.size\n",
        "F= np.zeros (( n , n ) )\n",
        "F[:,0]= f\n",
        "xi =1.5\n",
        "y0 = F[0 , 0]"
      ],
      "metadata": {
        "id": "qzej7tFFVTey"
      },
      "execution_count": 21,
      "outputs": []
    },
    {
      "cell_type": "code",
      "source": [
        "print(\"Diferencias 0\\t1° Dif.     2° Dif.      3° Dif.      4° Dif.\\t\")\n",
        "for i in range (0, n ):\n",
        "  for j in range (1,  i+1) :\n",
        "     F[i,j]=(F[i , j-1] - F[i-1, j-1]) / ( x[i] - x[ i-j ])\n",
        "print(F)\n"
      ],
      "metadata": {
        "colab": {
          "base_uri": "https://localhost:8080/"
        },
        "id": "hBkRz0PpVd3p",
        "outputId": "8945c395-f218-46ec-f23c-f17f8278847b"
      },
      "execution_count": 22,
      "outputs": [
        {
          "output_type": "stream",
          "name": "stdout",
          "text": [
            "Diferencias 0\t1° Dif.     2° Dif.      3° Dif.      4° Dif.\t\n",
            "[[ 0.7651977   0.          0.          0.          0.        ]\n",
            " [ 0.620086   -0.48370567  0.          0.          0.        ]\n",
            " [ 0.4554022  -0.548946   -0.10873389  0.          0.        ]\n",
            " [ 0.2818186  -0.578612   -0.04944333  0.0658784   0.        ]\n",
            " [ 0.1103623  -0.571521    0.01181833  0.06806852  0.0018251 ]]\n"
          ]
        }
      ]
    },
    {
      "cell_type": "code",
      "source": [
        "x0=1\n",
        "for k in range (1,n) :\n",
        "  x0= x0*( xi - x[k-1])\n",
        "  y0= y0 + F[k,k] * x0\n",
        "\n",
        "print (\"El valor Interpolado para x=\",xi,\"es: \", y0 )"
      ],
      "metadata": {
        "colab": {
          "base_uri": "https://localhost:8080/"
        },
        "id": "W40fUP80VkRt",
        "outputId": "98359756-6471-475c-950a-7dbe41749dc7"
      },
      "execution_count": 23,
      "outputs": [
        {
          "output_type": "stream",
          "name": "stdout",
          "text": [
            "El valor Interpolado para x= 1.5 es:  0.5118199942386833\n"
          ]
        }
      ]
    }
  ]
}