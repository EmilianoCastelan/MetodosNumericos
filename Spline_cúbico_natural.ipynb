{
  "nbformat": 4,
  "nbformat_minor": 0,
  "metadata": {
    "colab": {
      "provenance": [],
      "authorship_tag": "ABX9TyM3SNhs+bQQ+rVeXfpogz5P",
      "include_colab_link": true
    },
    "kernelspec": {
      "name": "python3",
      "display_name": "Python 3"
    },
    "language_info": {
      "name": "python"
    }
  },
  "cells": [
    {
      "cell_type": "markdown",
      "metadata": {
        "id": "view-in-github",
        "colab_type": "text"
      },
      "source": [
        "<a href=\"https://colab.research.google.com/github/EmilianoCastelan/MetodosNumericos/blob/main/Spline_c%C3%BAbico_natural.ipynb\" target=\"_parent\"><img src=\"https://colab.research.google.com/assets/colab-badge.svg\" alt=\"Open In Colab\"/></a>"
      ]
    },
    {
      "cell_type": "code",
      "execution_count": 4,
      "metadata": {
        "id": "y_fa8CWnkLOc"
      },
      "outputs": [],
      "source": [
        "from math import *\n",
        "import numpy as np\n",
        "import matplotlib . pyplot as plt\n",
        "x = np.array ([0,1,2,3])\n",
        "y=np.array([1,e,e**2,e**3])\n",
        "ni=(x.size)\n",
        "n=ni-1\n",
        "A= np.zeros (ni)\n",
        "a=np.zeros(n)\n",
        "A[:]= y"
      ]
    },
    {
      "cell_type": "code",
      "source": [
        "h=np.zeros(n)\n",
        "for i in range(0,n):\n",
        "  h[i]=x[i+1]-x[i]\n",
        "for j in range(0,n):\n",
        "  a[j]=(3*(A[j+1]-A[j]))/h[j]-(3*(A[j]-A[j-1]))/h[j-1]\n",
        "  l=np.zeros(n)\n",
        "mu=np.zeros(n)\n",
        "z=np.zeros(n)\n",
        "l[0]=1\n",
        "for k in range(1,n-1):\n",
        "  l[k]=2*(x[k+1]-x[k-1])-h[k-1]*mu[k-1]\n",
        "  mu[k]=h[k]/l[k]\n",
        "  z[k]=(a[k]-h[k-1]*z[k-1])/l[k]\n",
        "l[n-1]=1\n",
        "c=np.zeros(ni)\n",
        "b=np.zeros(n)\n",
        "d=np.zeros(n)\n",
        "c[1]=0.75685\n",
        "c[2]=5.83007\n",
        "for t in range(0,n):\n",
        "  b[t]=(A[t+1]-A[t])/h[t]-(h[t]*(c[t+1]+2*c[t]))/3\n",
        "  d[t]=(c[t+1]-c[t])/(3*h[t])\n",
        "\n",
        "print(\"Sea el spline cubico natural descrito por tramos, S(x):\")\n",
        "for i in range(0,n):\n",
        "  print(A[i],'+',b[i],'(x-',x[i],')+',c[i],'(x-',x[i],')^2+',d[i],'(x-',x[i],')^3, en ',x[i],'<= x <',x[i+1])"
      ],
      "metadata": {
        "colab": {
          "base_uri": "https://localhost:8080/"
        },
        "id": "sBZtcp_EkULu",
        "outputId": "a07e351e-7190-49d9-883f-faeb71a898cd"
      },
      "execution_count": 6,
      "outputs": [
        {
          "output_type": "stream",
          "name": "stdout",
          "text": [
            "Sea el spline cubico natural descrito por tramos, S(x):\n",
            "1.0 + 1.4659984951257117 (x- 0 )+ 0.0 (x- 0 )^2+ 0.25228333333333336 (x- 0 )^3, en  0 <= x < 1\n",
            "2.718281828459045 + 2.2228509371382708 (x- 1 )+ 0.75685 (x- 1 )^2+ 1.6910733333333334 (x- 1 )^3, en  1 <= x < 2\n",
            "7.3890560989306495 + 8.809767490923683 (x- 2 )+ 5.83007 (x- 2 )^2+ -1.9433566666666666 (x- 2 )^3, en  2 <= x < 3\n"
          ]
        }
      ]
    }
  ]
}