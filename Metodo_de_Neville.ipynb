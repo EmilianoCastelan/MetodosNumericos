{
  "nbformat": 4,
  "nbformat_minor": 0,
  "metadata": {
    "colab": {
      "provenance": [],
      "authorship_tag": "ABX9TyNVY9KLs9PLWrhiczPQoS10",
      "include_colab_link": true
    },
    "kernelspec": {
      "name": "python3",
      "display_name": "Python 3"
    },
    "language_info": {
      "name": "python"
    }
  },
  "cells": [
    {
      "cell_type": "markdown",
      "metadata": {
        "id": "view-in-github",
        "colab_type": "text"
      },
      "source": [
        "<a href=\"https://colab.research.google.com/github/EmilianoCastelan/MetodosNumericos/blob/main/Metodo_de_Neville.ipynb\" target=\"_parent\"><img src=\"https://colab.research.google.com/assets/colab-badge.svg\" alt=\"Open In Colab\"/></a>"
      ]
    },
    {
      "cell_type": "code",
      "execution_count": 5,
      "metadata": {
        "colab": {
          "base_uri": "https://localhost:8080/"
        },
        "id": "i_JFXpNC8i4N",
        "outputId": "f28e3587-70da-4c48-ca85-75771f247e2f"
      },
      "outputs": [
        {
          "output_type": "stream",
          "name": "stdout",
          "text": [
            "Introduzca el valor que desa interpolar1.5\n",
            "El valor interpolado en x = 1.5 es 0.5118199942386831\n"
          ]
        }
      ],
      "source": [
        "def Metodo_Neville(x, y, x_interp):\n",
        "    n = len(x)\n",
        "    Q = [[0] * n for _ in range(n)]\n",
        "\n",
        "    for i in range(n):\n",
        "        Q[i][0] = y[i]\n",
        "\n",
        "    for i in range(1, n):\n",
        "        for j in range(1, i + 1):\n",
        "            Q[i][j] = ((x_interp - x[i - j]) * Q[i][j - 1] - (x_interp - x[i]) * Q[i - 1][j - 1]) / (x[i] - x[i - j])\n",
        "\n",
        "    return Q[n - 1][n - 1]\n",
        "\n",
        "x = [1, 1.3, 1.6, 1.9, 2.2]\n",
        "y = [ 0.7651977, 0.6200860, 0.4554022,  0.2818186, 0.1103623]\n",
        "x_interp = float(input(\"Introduzca el valor que desa interpolar\"))\n",
        "\n",
        "pn = Metodo_Neville(x, y, x_interp)\n",
        "print(\"El valor interpolado en x =\", x_interp, \"es\", pn)"
      ]
    }
  ]
}