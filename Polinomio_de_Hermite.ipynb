{
  "nbformat": 4,
  "nbformat_minor": 0,
  "metadata": {
    "colab": {
      "provenance": [],
      "authorship_tag": "ABX9TyNR+SFi3Sg5bJJ00FSA7kqq",
      "include_colab_link": true
    },
    "kernelspec": {
      "name": "python3",
      "display_name": "Python 3"
    },
    "language_info": {
      "name": "python"
    }
  },
  "cells": [
    {
      "cell_type": "markdown",
      "metadata": {
        "id": "view-in-github",
        "colab_type": "text"
      },
      "source": [
        "<a href=\"https://colab.research.google.com/github/EmilianoCastelan/MetodosNumericos/blob/main/Polinomio_de_Hermite.ipynb\" target=\"_parent\"><img src=\"https://colab.research.google.com/assets/colab-badge.svg\" alt=\"Open In Colab\"/></a>"
      ]
    },
    {
      "cell_type": "code",
      "source": [
        "from math import *\n",
        "import numpy as np\n",
        "import matplotlib . pyplot as plt\n",
        "import sympy as sym\n",
        "\n",
        "x=np.array([1.3,1.6,1.9])\n",
        "f=np.array([0.6200860, 0.4554022, 0.2818186])\n",
        "d=np.array([-0.5220232, -0.5698959, -0.5811571])\n",
        "n=(x.size)\n",
        "Q=np.zeros((2*n,2*n))\n",
        "z=np.zeros(2*n)\n",
        "xi=1.5\n",
        "H=Q[0,0]\n",
        "for i in range(0,n):\n",
        "  z[2*i]=x[i]\n",
        "  z[2*i+1]=x[i]\n",
        "  Q[2*i,0]=f[i]\n",
        "  Q[2*i+1,0]=f[i]\n",
        "  Q[2*i+1,1]=d[i]\n",
        "  if i !=0:\n",
        "    Q[2*i,1]=(Q[2*i,0]-Q[2*i-1,0])/(z[2*i]-z[2*i-1])\n",
        "for i in range(2,2*n):\n",
        "  for j in range(2,i+1):\n",
        "    Q[i,j]=(Q[i,j-1]-Q[i-1,j-1])/(z[i]-z[i-j])\n",
        "print(\"f(z)\\t\\t  1°Dif\\t\\t2°Dif\\t     3°Dif\\t  4°Dif\\t     5°Dif\")\n",
        "print(Q)\n",
        "\n",
        "\n"
      ],
      "metadata": {
        "colab": {
          "base_uri": "https://localhost:8080/"
        },
        "id": "IiZdtpFykXLc",
        "outputId": "b076e053-73ba-49a1-9348-eb2f73faf612"
      },
      "execution_count": 11,
      "outputs": [
        {
          "output_type": "stream",
          "name": "stdout",
          "text": [
            "f(z)\t\t  1°Dif\t\t2°Dif\t     3°Dif\t  4°Dif\t     5°Dif\n",
            "[[ 0.620086    0.          0.          0.          0.          0.        ]\n",
            " [ 0.620086   -0.5220232   0.          0.          0.          0.        ]\n",
            " [ 0.4554022  -0.548946   -0.08974267  0.          0.          0.        ]\n",
            " [ 0.4554022  -0.5698959  -0.069833    0.06636556  0.          0.        ]\n",
            " [ 0.2818186  -0.578612   -0.02905367  0.06796556  0.00266667  0.        ]\n",
            " [ 0.2818186  -0.5811571  -0.00848367  0.06856667  0.00100185 -0.00277469]]\n"
          ]
        }
      ]
    },
    {
      "cell_type": "code",
      "source": [
        "m=z.size\n",
        "x0=1\n",
        "H=Q[0,0]\n",
        "for k in range (1,m) :\n",
        "  x0= x0*( xi- z[k-1])\n",
        "  H= H +Q[k,k] * x0\n",
        "\n",
        "print (\"El valor Interpolado de x=\",xi,\"es: \", H)\n",
        "m=z.size\n",
        "x0=1\n",
        "F=Q[0,0]\n",
        "s = sym.Symbol('x')\n",
        "for k in range (1,m) :\n",
        "  x0= x0*( s - z[k-1])\n",
        "  F= F +Q[k,k] * x0\n",
        "\n",
        "p=F.expand()\n",
        "print(\"Sea el polinomio:\")\n",
        "print(\"P(x)=\",p)\n"
      ],
      "metadata": {
        "colab": {
          "base_uri": "https://localhost:8080/"
        },
        "id": "qGw4iFmnUAQd",
        "outputId": "53c0c171-7d46-4f23-8578-d549fb3c5a0f"
      },
      "execution_count": 12,
      "outputs": [
        {
          "output_type": "stream",
          "name": "stdout",
          "text": [
            "El valor Interpolado de 1.5 es:  0.5118277017283951\n",
            "Sea el polinomio:\n",
            "P(x)= -0.00277469135798944*x**5 + 0.0240317901231809*x**4 - 0.0145560802460553*x**3 - 0.235216169754413*x**2 - 0.00822922345577151*x + 1.00194406469105\n"
          ]
        }
      ]
    }
  ]
}